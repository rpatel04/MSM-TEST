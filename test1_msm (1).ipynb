{
 "cells": [
  {
   "cell_type": "code",
   "execution_count": 18,
   "id": "4b4b3726",
   "metadata": {},
   "outputs": [
    {
     "data": {
      "text/plain": [
       "'2.5.12'"
      ]
     },
     "execution_count": 18,
     "metadata": {},
     "output_type": "execute_result"
    }
   ],
   "source": [
    "from __future__ import print_function\n",
    "import pyemma\n",
    "pyemma.__version__"
   ]
  },
  {
   "cell_type": "code",
   "execution_count": 19,
   "id": "2651d0c7",
   "metadata": {},
   "outputs": [
    {
     "name": "stdout",
     "output_type": "stream",
     "text": [
      "%pylab is deprecated, use %matplotlib inline and import the required libraries.\n",
      "Populating the interactive namespace from numpy and matplotlib\n"
     ]
    },
    {
     "name": "stderr",
     "output_type": "stream",
     "text": [
      "/home/rutika/anaconda3/envs/mdaenv/lib/python3.9/site-packages/IPython/core/magics/pylab.py:162: UserWarning: pylab import has clobbered these variables: ['load']\n",
      "`%matplotlib` prevents importing * from pylab and numpy\n",
      "  warn(\"pylab import has clobbered these variables: %s\"  % clobbered +\n"
     ]
    }
   ],
   "source": [
    "import os\n",
    "%pylab inline\n",
    "matplotlib.rcParams.update({'font.size': 12})"
   ]
  },
  {
   "cell_type": "code",
   "execution_count": 20,
   "id": "846decbe",
   "metadata": {},
   "outputs": [],
   "source": [
    "import pyemma.coordinates \n",
    "import pyemma.msm as msm\n",
    "import pyemma.plots as mplt\n",
    "from pyemma.coordinates import load"
   ]
  },
  {
   "cell_type": "code",
   "execution_count": 21,
   "id": "1c236810",
   "metadata": {},
   "outputs": [],
   "source": [
    "import mdshare\n",
    "import numpy as np\n",
    "import matplotlib.pyplot as plt"
   ]
  },
  {
   "cell_type": "code",
   "execution_count": 57,
   "id": "1210ea1b",
   "metadata": {},
   "outputs": [],
   "source": []
  },
  {
   "cell_type": "code",
   "execution_count": 22,
   "id": "d285beed",
   "metadata": {},
   "outputs": [],
   "source": [
    "from pyemma.coordinates import load\n",
    "files = ['wt_660_692_h2b1.dcd']\n",
    "pdb = load(files, top='wt_660_692_h2b1.pdb')"
   ]
  },
  {
   "cell_type": "code",
   "execution_count": 23,
   "id": "89ff844c",
   "metadata": {},
   "outputs": [
    {
     "data": {
      "text/plain": [
       "array([[ 6.165212 ,  3.2642906,  5.8622603, ...,  5.77531  ,  6.303118 ,\n",
       "         7.443561 ],\n",
       "       [ 6.453304 ,  4.65228  ,  5.412977 , ...,  5.8741546,  6.339935 ,\n",
       "         7.433484 ],\n",
       "       [ 6.7138147,  4.2628493,  5.352881 , ...,  6.0704913,  6.4004683,\n",
       "         7.435014 ],\n",
       "       ...,\n",
       "       [ 8.919153 ,  9.0313635,  5.5323787, ...,  8.95198  , 11.147848 ,\n",
       "         7.551555 ],\n",
       "       [ 7.9865494,  8.015135 ,  4.565652 , ...,  8.73158  , 10.965999 ,\n",
       "         7.3807983],\n",
       "       [ 8.566434 ,  8.818196 ,  5.236755 , ...,  8.86681  , 11.002524 ,\n",
       "         7.3865433]], dtype=float32)"
      ]
     },
     "execution_count": 23,
     "metadata": {},
     "output_type": "execute_result"
    }
   ],
   "source": [
    "pdb"
   ]
  },
  {
   "cell_type": "code",
   "execution_count": 24,
   "id": "69114beb",
   "metadata": {},
   "outputs": [
    {
     "data": {
      "text/plain": [
       "MDFeaturizer with features:\n",
       "[, ...]"
      ]
     },
     "execution_count": 24,
     "metadata": {},
     "output_type": "execute_result"
    }
   ],
   "source": [
    "import mdtraj as md\n",
    "pdb = md.load('wt_660_692_h2b1.pdb')\n",
    "feat = pyemma.coordinates.featurizer(pdb)\n",
    "feat"
   ]
  },
  {
   "cell_type": "code",
   "execution_count": 25,
   "id": "1609cef0",
   "metadata": {},
   "outputs": [
    {
     "name": "stdout",
     "output_type": "stream",
     "text": [
      "type of data: <class 'numpy.ndarray'>\n",
      "lengths: 500\n",
      "shape of elements: (1665,)\n",
      "n_atoms: 555\n"
     ]
    }
   ],
   "source": [
    "data = pyemma.coordinates.load(files, features=feat)\n",
    "print('type of data:', type(data))\n",
    "print('lengths:', len(data))\n",
    "print('shape of elements:', data[0].shape)\n",
    "print('n_atoms:', feat.topology.n_atoms)"
   ]
  },
  {
   "cell_type": "code",
   "execution_count": 26,
   "id": "f784c146",
   "metadata": {},
   "outputs": [],
   "source": [
    "feat = pyemma.coordinates.featurizer(pdb)\n",
    "feat.add_backbone_torsions(periodic=False)"
   ]
  },
  {
   "cell_type": "code",
   "execution_count": 27,
   "id": "06e6f997",
   "metadata": {},
   "outputs": [
    {
     "name": "stdout",
     "output_type": "stream",
     "text": [
      "type of data: <class 'numpy.ndarray'>\n",
      "lengths: 500\n",
      "shape of elements: (64,)\n"
     ]
    }
   ],
   "source": [
    "data = pyemma.coordinates.load(files, features=feat)\n",
    "\n",
    "print('type of data:', type(data))\n",
    "print('lengths:', len(data))\n",
    "print('shape of elements:', data[0].shape)"
   ]
  },
  {
   "cell_type": "code",
   "execution_count": 28,
   "id": "a1e76c53",
   "metadata": {},
   "outputs": [
    {
     "name": "stdout",
     "output_type": "stream",
     "text": [
      "['PHI 0 LYS 661', 'PSI 0 ALA 660', 'PHI 0 SER 662', 'PSI 0 LYS 661', 'PHI 0 ALA 663', 'PSI 0 SER 662', 'PHI 0 PRO 664', 'PSI 0 ALA 663', 'PHI 0 ALA 665', 'PSI 0 PRO 664', 'PHI 0 PRO 666', 'PSI 0 ALA 665', 'PHI 0 LYS 667', 'PSI 0 PRO 666', 'PHI 0 LYS 668', 'PSI 0 LYS 667', 'PHI 0 GLY 669', 'PSI 0 LYS 668', 'PHI 0 SER 670', 'PSI 0 GLY 669', 'PHI 0 LYS 671', 'PSI 0 SER 670', 'PHI 0 LYS 672', 'PSI 0 LYS 671', 'PHI 0 ALA 673', 'PSI 0 LYS 672', 'PHI 0 VAL 674', 'PSI 0 ALA 673', 'PHI 0 THR 675', 'PSI 0 VAL 674', 'PHI 0 LYS 676', 'PSI 0 THR 675', 'PHI 0 THR 677', 'PSI 0 LYS 676', 'PHI 0 GLN 678', 'PSI 0 THR 677', 'PHI 0 LYS 679', 'PSI 0 GLN 678', 'PHI 0 LYS 680', 'PSI 0 LYS 679', 'PHI 0 ASP 681', 'PSI 0 LYS 680', 'PHI 0 GLY 682', 'PSI 0 ASP 681', 'PHI 0 LYS 683', 'PSI 0 GLY 682', 'PHI 0 LYS 684', 'PSI 0 LYS 683', 'PHI 0 ARG 685', 'PSI 0 LYS 684', 'PHI 0 ARG 686', 'PSI 0 ARG 685', 'PHI 0 LYS 687', 'PSI 0 ARG 686', 'PHI 0 THR 688', 'PSI 0 LYS 687', 'PHI 0 ARG 689', 'PSI 0 THR 688', 'PHI 0 LYS 690', 'PSI 0 ARG 689', 'PHI 0 GLU 691', 'PSI 0 LYS 690', 'PHI 0 SER 692', 'PSI 0 GLU 691']\n"
     ]
    }
   ],
   "source": [
    "print(feat.describe())"
   ]
  },
  {
   "cell_type": "code",
   "execution_count": 29,
   "id": "d6c644ec",
   "metadata": {},
   "outputs": [
    {
     "ename": "IndexError",
     "evalue": "tuple index out of range",
     "output_type": "error",
     "traceback": [
      "\u001b[0;31m---------------------------------------------------------------------------\u001b[0m",
      "\u001b[0;31mIndexError\u001b[0m                                Traceback (most recent call last)",
      "Input \u001b[0;32mIn [29]\u001b[0m, in \u001b[0;36m<cell line: 2>\u001b[0;34m()\u001b[0m\n\u001b[1;32m      1\u001b[0m data_concatenated \u001b[38;5;241m=\u001b[39m np\u001b[38;5;241m.\u001b[39mconcatenate(data)\n\u001b[0;32m----> 2\u001b[0m \u001b[43mpyemma\u001b[49m\u001b[38;5;241;43m.\u001b[39;49m\u001b[43mplots\u001b[49m\u001b[38;5;241;43m.\u001b[39;49m\u001b[43mplot_feature_histograms\u001b[49m\u001b[43m(\u001b[49m\u001b[43mdata_concatenated\u001b[49m\u001b[43m,\u001b[49m\u001b[43m \u001b[49m\u001b[43mfeature_labels\u001b[49m\u001b[38;5;241;43m=\u001b[39;49m\u001b[43mfeat\u001b[49m\u001b[43m)\u001b[49m\n",
      "File \u001b[0;32m~/anaconda3/envs/mdaenv/lib/python3.9/site-packages/pyemma/plots/plots1d.py:65\u001b[0m, in \u001b[0;36mplot_feature_histograms\u001b[0;34m(xyzall, feature_labels, ax, ylog, outfile, n_bins, ignore_dim_warning, **kwargs)\u001b[0m\n\u001b[1;32m     62\u001b[0m \u001b[38;5;28;01mif\u001b[39;00m \u001b[38;5;129;01mnot\u001b[39;00m \u001b[38;5;28misinstance\u001b[39m(xyzall, _np\u001b[38;5;241m.\u001b[39mndarray):\n\u001b[1;32m     63\u001b[0m     \u001b[38;5;28;01mraise\u001b[39;00m \u001b[38;5;167;01mValueError\u001b[39;00m(\u001b[38;5;124m'\u001b[39m\u001b[38;5;124mInput data hast to be a numpy array. Did you concatenate your data?\u001b[39m\u001b[38;5;124m'\u001b[39m)\n\u001b[0;32m---> 65\u001b[0m \u001b[38;5;28;01mif\u001b[39;00m \u001b[43mxyzall\u001b[49m\u001b[38;5;241;43m.\u001b[39;49m\u001b[43mshape\u001b[49m\u001b[43m[\u001b[49m\u001b[38;5;241;43m1\u001b[39;49m\u001b[43m]\u001b[49m \u001b[38;5;241m>\u001b[39m \u001b[38;5;241m50\u001b[39m \u001b[38;5;129;01mand\u001b[39;00m \u001b[38;5;129;01mnot\u001b[39;00m ignore_dim_warning:\n\u001b[1;32m     66\u001b[0m     \u001b[38;5;28;01mraise\u001b[39;00m \u001b[38;5;167;01mRuntimeError\u001b[39;00m(\u001b[38;5;124m'\u001b[39m\u001b[38;5;124mThis function is only useful for less than 50 dimensions. Turn-off this warning \u001b[39m\u001b[38;5;124m'\u001b[39m\n\u001b[1;32m     67\u001b[0m                        \u001b[38;5;124m'\u001b[39m\u001b[38;5;124mat your own risk with ignore_dim_warning=True.\u001b[39m\u001b[38;5;124m'\u001b[39m)\n\u001b[1;32m     69\u001b[0m \u001b[38;5;28;01mif\u001b[39;00m feature_labels \u001b[38;5;129;01mis\u001b[39;00m \u001b[38;5;129;01mnot\u001b[39;00m \u001b[38;5;28;01mNone\u001b[39;00m:\n",
      "\u001b[0;31mIndexError\u001b[0m: tuple index out of range"
     ]
    }
   ],
   "source": [
    "data_concatenated = np.concatenate(data)\n",
    "pyemma.plots.plot_feature_histograms(data_concatenated, feature_labels=feat);"
   ]
  },
  {
   "cell_type": "code",
   "execution_count": null,
   "id": "1e79dd39",
   "metadata": {},
   "outputs": [],
   "source": []
  }
 ],
 "metadata": {
  "kernelspec": {
   "display_name": "Python (mdaenv)",
   "language": "python",
   "name": "mdaenv"
  },
  "language_info": {
   "codemirror_mode": {
    "name": "ipython",
    "version": 3
   },
   "file_extension": ".py",
   "mimetype": "text/x-python",
   "name": "python",
   "nbconvert_exporter": "python",
   "pygments_lexer": "ipython3",
   "version": "3.9.12"
  }
 },
 "nbformat": 4,
 "nbformat_minor": 5
}
